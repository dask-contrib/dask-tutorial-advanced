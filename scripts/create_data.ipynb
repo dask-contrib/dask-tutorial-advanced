{
 "cells": [
  {
   "cell_type": "code",
   "execution_count": null,
   "id": "736f0576-2486-4551-9b48-3d4288af366e",
   "metadata": {},
   "outputs": [],
   "source": [
    "import coiled\n",
    "from dask.distributed import Client\n",
    "import dask"
   ]
  },
  {
   "cell_type": "code",
   "execution_count": null,
   "id": "6ae7d14d-7822-4c67-b316-1440689355b4",
   "metadata": {},
   "outputs": [],
   "source": [
    "import dask.dataframe as dd"
   ]
  },
  {
   "cell_type": "code",
   "execution_count": null,
   "id": "b7256c61-35a8-4d69-9fab-650220e47ece",
   "metadata": {},
   "outputs": [],
   "source": [
    "cluster = coiled.Cluster(n_workers = 20)\n",
    "client = cluster.get_client()"
   ]
  },
  {
   "cell_type": "code",
   "execution_count": null,
   "id": "99af056e-fa71-487a-8ffa-0e4c0ea81512",
   "metadata": {},
   "outputs": [],
   "source": [
    "client"
   ]
  },
  {
   "cell_type": "code",
   "execution_count": null,
   "id": "a62cced4-7e5a-4db4-a2d2-abde5c259936",
   "metadata": {},
   "outputs": [],
   "source": [
    "dask.config.set({\"dataframe.convert-string\": True})"
   ]
  },
  {
   "cell_type": "code",
   "execution_count": null,
   "id": "11a35129-451c-41a0-9930-a86dccbecab1",
   "metadata": {},
   "outputs": [],
   "source": [
    "df = dd.read_parquet(\n",
    "    \"s3://coiled-datasets/uber-lyft-tlc/\",\n",
    "    storage_options={'anon': True}\n",
    ")"
   ]
  },
  {
   "cell_type": "code",
   "execution_count": null,
   "id": "a4087889-a37a-4179-97bb-a695a0839ba7",
   "metadata": {},
   "outputs": [],
   "source": [
    "df.dtypes"
   ]
  },
  {
   "cell_type": "code",
   "execution_count": null,
   "id": "b44160f5-b4ba-4f9b-9d51-c20bfc963011",
   "metadata": {},
   "outputs": [],
   "source": [
    "df.head()"
   ]
  },
  {
   "cell_type": "code",
   "execution_count": null,
   "id": "21560272-24c0-4c65-b43e-7c712b570797",
   "metadata": {},
   "outputs": [],
   "source": [
    "dask.utils.format_bytes(\n",
    "    df.memory_usage(deep=True).sum().compute()\n",
    ")"
   ]
  },
  {
   "cell_type": "code",
   "execution_count": null,
   "id": "d4bb9737-8e38-4aee-8b85-df43d941a03c",
   "metadata": {},
   "outputs": [],
   "source": [
    "df_sample = df.sample(frac=0.1)"
   ]
  },
  {
   "cell_type": "code",
   "execution_count": null,
   "id": "bbdaedf0-71f2-44be-97ee-0d251b38ec51",
   "metadata": {},
   "outputs": [],
   "source": [
    "df_sample = df_sample.persist()"
   ]
  },
  {
   "cell_type": "code",
   "execution_count": null,
   "id": "882dd628-920e-4621-9f9b-531b4a309889",
   "metadata": {},
   "outputs": [],
   "source": [
    "dask.utils.format_bytes(\n",
    "    df_sample.memory_usage(deep=True).sum().compute()\n",
    ")"
   ]
  },
  {
   "cell_type": "code",
   "execution_count": null,
   "id": "339e5b8b-14f3-4c4c-ba74-43823488e3d9",
   "metadata": {},
   "outputs": [],
   "source": [
    "from dask.sizeof import sizeof"
   ]
  },
  {
   "cell_type": "code",
   "execution_count": null,
   "id": "c18d100f-e842-4ace-aad6-3a179792be53",
   "metadata": {},
   "outputs": [],
   "source": [
    "partitions_mem_stats = df_sample.map_partitions(sizeof).compute()"
   ]
  },
  {
   "cell_type": "code",
   "execution_count": null,
   "id": "eec0e812-7070-4715-be6b-588a7d8b743e",
   "metadata": {},
   "outputs": [],
   "source": [
    "(partitions_mem_stats / 1024**2).describe() #in MiB"
   ]
  },
  {
   "cell_type": "code",
   "execution_count": null,
   "id": "135514a0-cfc0-4d2d-9187-758ff5e2d2f4",
   "metadata": {},
   "outputs": [],
   "source": [
    "dask.utils.format_bytes(df_sample.partitions[0].memory_usage(deep=True).compute().sum())"
   ]
  },
  {
   "cell_type": "code",
   "execution_count": null,
   "id": "71493360-320b-461c-99c8-33cbbcc4cc27",
   "metadata": {},
   "outputs": [],
   "source": [
    "%%time\n",
    "#passanger fare\n",
    "df_sample.base_passenger_fare.sum().compute() / 1e9"
   ]
  },
  {
   "cell_type": "code",
   "execution_count": null,
   "id": "cde07a38-b3f4-42cb-aadd-ba91360170f1",
   "metadata": {},
   "outputs": [],
   "source": [
    "%%time\n",
    "#tip\n",
    "df_sample.tips.sum().compute() / 1e6"
   ]
  },
  {
   "cell_type": "code",
   "execution_count": null,
   "id": "08182a38-04c2-49f7-bfc4-68b474824d47",
   "metadata": {},
   "outputs": [],
   "source": [
    "%%time\n",
    "df_sample.loc[lambda x: x.tips > 0].groupby(\"hvfhs_license_num\").tips.agg([\"sum\", \"mean\"]).compute()"
   ]
  },
  {
   "cell_type": "markdown",
   "id": "231ab6a3-edfe-4b8e-8c21-0dbf5577327b",
   "metadata": {},
   "source": [
    "## Partition size 1MB \n",
    "\n",
    "Runs are ~11X slower compared to 13MB partitions"
   ]
  },
  {
   "cell_type": "code",
   "execution_count": null,
   "id": "b3754d13-31c4-49db-b8db-de9bff627b23",
   "metadata": {},
   "outputs": [],
   "source": [
    "df_sample = df_sample.repartition(partition_size=\"1MB\").persist()"
   ]
  },
  {
   "cell_type": "code",
   "execution_count": null,
   "id": "8a0dc205-9369-467f-97bc-0c122dff3fa3",
   "metadata": {},
   "outputs": [],
   "source": [
    "dask.utils.format_bytes(df_sample.partitions[0].memory_usage(deep=True).compute().sum())"
   ]
  },
  {
   "cell_type": "code",
   "execution_count": null,
   "id": "6d943324-99b0-4fd0-b8ec-7d0cca68488a",
   "metadata": {},
   "outputs": [],
   "source": [
    "%%time\n",
    "#passanger fare\n",
    "df_sample.base_passenger_fare.sum().compute() / 1e9"
   ]
  },
  {
   "cell_type": "code",
   "execution_count": null,
   "id": "f323d74a-7968-4243-9b7d-02737dbee77d",
   "metadata": {},
   "outputs": [],
   "source": [
    "%%time\n",
    "#tip\n",
    "df_sample.tips.sum().compute() / 1e6"
   ]
  },
  {
   "cell_type": "code",
   "execution_count": null,
   "id": "a44878c6-c38b-42a8-9d29-e5e2f2a47eaf",
   "metadata": {},
   "outputs": [],
   "source": [
    "%%time\n",
    "df_sample.loc[lambda x: x.tips > 0].groupby(\"hvfhs_license_num\").tips.agg([\"sum\", \"mean\"]).compute()"
   ]
  },
  {
   "cell_type": "markdown",
   "id": "640a6505-9b86-4c3d-88a8-4ac845de9c4b",
   "metadata": {},
   "source": [
    "## Write 1MB partition data to parquet and csv"
   ]
  },
  {
   "cell_type": "code",
   "execution_count": null,
   "id": "419db173-6634-4e04-8b46-29b778caebb4",
   "metadata": {
    "tags": []
   },
   "outputs": [],
   "source": [
    "df_sample.to_parquet(\"s3://coiled-datasets/uber-lyft-tlc-sample/parquet-ill/\");"
   ]
  },
  {
   "cell_type": "code",
   "execution_count": null,
   "id": "fa488722-b8e0-4c5f-a909-305f1dc8f5c0",
   "metadata": {},
   "outputs": [],
   "source": [
    "df_sample.to_csv(\"s3://coiled-datasets/uber-lyft-tlc-sample/csv-ill/\");"
   ]
  },
  {
   "cell_type": "markdown",
   "id": "52f31313-1bdd-44f6-9f08-0e19c9691e14",
   "metadata": {},
   "source": [
    "## Check read "
   ]
  },
  {
   "cell_type": "code",
   "execution_count": null,
   "id": "96914cd1-5c99-4ae4-9185-279bfcb75d64",
   "metadata": {},
   "outputs": [],
   "source": [
    "df_pq = dd.read_parquet(\"s3://coiled-datasets/uber-lyft-tlc-sample/parquet-ill/\")"
   ]
  },
  {
   "cell_type": "code",
   "execution_count": null,
   "id": "16888a81-c2aa-40e5-b53f-2c71989f852d",
   "metadata": {},
   "outputs": [],
   "source": [
    "#beauty of parquet meta - get dtypes right\n",
    "df_pq.dtypes"
   ]
  },
  {
   "cell_type": "code",
   "execution_count": null,
   "id": "40adc006-11c2-4098-9311-11ab38d015d0",
   "metadata": {},
   "outputs": [],
   "source": [
    "dask.utils.format_bytes(df_pq.partitions[0].memory_usage(deep=True).compute().sum())"
   ]
  },
  {
   "cell_type": "markdown",
   "id": "641d1c0f-6c98-403e-ad29-de9e8585bfd9",
   "metadata": {},
   "source": [
    "### Try 100MB partitions"
   ]
  },
  {
   "cell_type": "code",
   "execution_count": null,
   "id": "0929b7a7-0ff1-45ba-b27d-e0e3a6b3b984",
   "metadata": {},
   "outputs": [],
   "source": [
    "df_pq = df_pq.repartition(partition_size=\"100MB\").persist()"
   ]
  },
  {
   "cell_type": "code",
   "execution_count": null,
   "id": "b224ef59-d2db-4fc8-8887-aa5279311bb3",
   "metadata": {},
   "outputs": [],
   "source": [
    "%%time\n",
    "#passanger fare\n",
    "df_pq.base_passenger_fare.sum().compute() / 1e9"
   ]
  },
  {
   "cell_type": "markdown",
   "id": "c3dc4a9f-9f1a-4ff0-9cb1-828bcab1703b",
   "metadata": {},
   "source": [
    "## Went from ~5.9 s to 137ms (~43X faster)"
   ]
  },
  {
   "cell_type": "code",
   "execution_count": null,
   "id": "26e0fa54-3999-4352-83b2-a13de767302b",
   "metadata": {},
   "outputs": [],
   "source": [
    "df_csv = dd.read_csv(\"s3://coiled-datasets/uber-lyft-tlc-sample/csv-ill/*\", \n",
    "                     dtype = {\n",
    "                     \"shared_request_flag\": \"category\",\n",
    "                     \"shared_match_flag\": \"category\",\n",
    "                     \"access_a_ride_flag\": \"category\",\n",
    "                     \"wav_request_flag\": \"category\",\n",
    "                     \"wav_match_flag\": \"category\",    \n",
    "                     }, \n",
    "                     parse_dates=[\"request_datetime\", \"on_scene_datetime\", # this is not working well see error below\n",
    "                                  \"pickup_datetime\", \"dropoff_datetime\"]\n",
    "                    )"
   ]
  },
  {
   "cell_type": "code",
   "execution_count": null,
   "id": "5faa6681-4067-456f-a983-e69be7697fa7",
   "metadata": {},
   "outputs": [],
   "source": [
    "#notice the ints and floats are infered as 64\n",
    "df_csv.dtypes"
   ]
  },
  {
   "cell_type": "code",
   "execution_count": null,
   "id": "7ab08a5c-360c-4495-abdc-d90a9ed3ff89",
   "metadata": {},
   "outputs": [],
   "source": [
    "#this is not working\n",
    "dask.utils.format_bytes(\n",
    "    df_csv.memory_usage(deep=True).sum().compute()\n",
    ")"
   ]
  },
  {
   "cell_type": "markdown",
   "id": "f3252fd9-c5e4-4f5f-8f0c-334a3d2d0496",
   "metadata": {},
   "source": [
    "```python\n",
    "ValueError: Mismatched dtypes found in `pd.read_csv`/`pd.read_table`.\n",
    "\n",
    "The following columns failed to properly parse as dates:\n",
    "\n",
    "- on_scene_datetime\n",
    "\n",
    "This is usually due to an invalid value in that column. To\n",
    "diagnose and fix it's recommended to drop these columns from the\n",
    "`parse_dates` keyword, and manually convert them to dates later\n",
    "using `dd.to_datetime`.\n",
    "\n",
    "\n",
    "```"
   ]
  },
  {
   "cell_type": "markdown",
   "id": "b18d230f-c332-4e10-93fc-441e87244aa7",
   "metadata": {},
   "source": [
    "## If we just do \n",
    "```python\n",
    "df_csv = dd.read_csv(\"s3://coiled-datasets/uber-lyft-tlc-sample/csv-ill/*\",)\n",
    "```\n",
    "\n",
    "It will be infering date times and categories as strings, and the last category `wav_match_flag` because it has NaN is converting it to floats but the values are [\"N\", \"Y\"]\n",
    "\n",
    "and this fails because of the dtype of `wav_match_flag`\n",
    "```python\n",
    "dask.utils.format_bytes(\n",
    "    df_csv.memory_usage(deep=True).sum().compute()\n",
    ")\n",
    "```"
   ]
  },
  {
   "cell_type": "code",
   "execution_count": null,
   "id": "7ab2af73-2b13-4161-b274-7a68626172aa",
   "metadata": {},
   "outputs": [],
   "source": []
  },
  {
   "cell_type": "code",
   "execution_count": null,
   "id": "2e5a2ddb-f144-4e75-b6b0-382ba018bccc",
   "metadata": {},
   "outputs": [],
   "source": []
  }
 ],
 "metadata": {
  "kernelspec": {
   "display_name": "Python 3 (ipykernel)",
   "language": "python",
   "name": "python3"
  },
  "language_info": {
   "codemirror_mode": {
    "name": "ipython",
    "version": 3
   },
   "file_extension": ".py",
   "mimetype": "text/x-python",
   "name": "python",
   "nbconvert_exporter": "python",
   "pygments_lexer": "ipython3",
   "version": "3.10.0"
  }
 },
 "nbformat": 4,
 "nbformat_minor": 5
}

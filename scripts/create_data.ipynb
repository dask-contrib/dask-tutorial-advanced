{
 "cells": [
  {
   "cell_type": "code",
   "execution_count": null,
   "id": "736f0576-2486-4551-9b48-3d4288af366e",
   "metadata": {},
   "outputs": [],
   "source": [
    "import coiled\n",
    "from dask.distributed import Client\n",
    "import dask"
   ]
  },
  {
   "cell_type": "code",
   "execution_count": null,
   "id": "6ae7d14d-7822-4c67-b316-1440689355b4",
   "metadata": {},
   "outputs": [],
   "source": [
    "import dask.dataframe as dd"
   ]
  },
  {
   "cell_type": "code",
   "execution_count": null,
   "id": "b7256c61-35a8-4d69-9fab-650220e47ece",
   "metadata": {},
   "outputs": [],
   "source": [
    "cluster = coiled.Cluster(n_workers=100)\n",
    "client = cluster.get_client()"
   ]
  },
  {
   "cell_type": "code",
   "execution_count": null,
   "id": "99af056e-fa71-487a-8ffa-0e4c0ea81512",
   "metadata": {},
   "outputs": [],
   "source": [
    "client"
   ]
  },
  {
   "cell_type": "code",
   "execution_count": null,
   "id": "a62cced4-7e5a-4db4-a2d2-abde5c259936",
   "metadata": {},
   "outputs": [],
   "source": [
    "dask.config.set({\"dataframe.convert-string\": True})"
   ]
  },
  {
   "cell_type": "code",
   "execution_count": null,
   "id": "11a35129-451c-41a0-9930-a86dccbecab1",
   "metadata": {},
   "outputs": [],
   "source": [
    "df = dd.read_parquet(\n",
    "    \"s3://coiled-datasets/uber-lyft-tlc/\",\n",
    "    storage_options={'anon': True}\n",
    ")"
   ]
  },
  {
   "cell_type": "code",
   "execution_count": null,
   "id": "ce0d1d63-70c4-4bdc-b208-d84e3c8e81db",
   "metadata": {
    "tags": []
   },
   "outputs": [],
   "source": [
    "df_full = df"
   ]
  },
  {
   "cell_type": "code",
   "execution_count": null,
   "id": "a4087889-a37a-4179-97bb-a695a0839ba7",
   "metadata": {},
   "outputs": [],
   "source": [
    "df.dtypes"
   ]
  },
  {
   "cell_type": "code",
   "execution_count": null,
   "id": "b44160f5-b4ba-4f9b-9d51-c20bfc963011",
   "metadata": {},
   "outputs": [],
   "source": [
    "df.head()"
   ]
  },
  {
   "cell_type": "code",
   "execution_count": null,
   "id": "21560272-24c0-4c65-b43e-7c712b570797",
   "metadata": {},
   "outputs": [],
   "source": [
    "dask.utils.format_bytes(\n",
    "    df.memory_usage(deep=True).sum().compute()\n",
    ")"
   ]
  },
  {
   "cell_type": "code",
   "execution_count": null,
   "id": "d4bb9737-8e38-4aee-8b85-df43d941a03c",
   "metadata": {},
   "outputs": [],
   "source": [
    "df_sample = df.sample(frac=0.2)"
   ]
  },
  {
   "cell_type": "code",
   "execution_count": null,
   "id": "bbdaedf0-71f2-44be-97ee-0d251b38ec51",
   "metadata": {},
   "outputs": [],
   "source": [
    "df_sample = df_sample.persist()"
   ]
  },
  {
   "cell_type": "code",
   "execution_count": null,
   "id": "882dd628-920e-4621-9f9b-531b4a309889",
   "metadata": {},
   "outputs": [],
   "source": [
    "dask.utils.format_bytes(\n",
    "    df_sample.memory_usage(deep=True).sum().compute()\n",
    ")"
   ]
  },
  {
   "cell_type": "code",
   "execution_count": null,
   "id": "339e5b8b-14f3-4c4c-ba74-43823488e3d9",
   "metadata": {},
   "outputs": [],
   "source": [
    "from dask.sizeof import sizeof"
   ]
  },
  {
   "cell_type": "code",
   "execution_count": null,
   "id": "c18d100f-e842-4ace-aad6-3a179792be53",
   "metadata": {},
   "outputs": [],
   "source": [
    "partitions_mem_stats = df_sample.map_partitions(sizeof).compute()"
   ]
  },
  {
   "cell_type": "code",
   "execution_count": null,
   "id": "eec0e812-7070-4715-be6b-588a7d8b743e",
   "metadata": {},
   "outputs": [],
   "source": [
    "(partitions_mem_stats / 1024**2).describe() #in MiB"
   ]
  },
  {
   "cell_type": "code",
   "execution_count": null,
   "id": "135514a0-cfc0-4d2d-9187-758ff5e2d2f4",
   "metadata": {},
   "outputs": [],
   "source": [
    "dask.utils.format_bytes(df_sample.partitions[0].memory_usage(deep=True).compute().sum())"
   ]
  },
  {
   "cell_type": "code",
   "execution_count": null,
   "id": "71493360-320b-461c-99c8-33cbbcc4cc27",
   "metadata": {},
   "outputs": [],
   "source": [
    "%%time\n",
    "#passanger fare\n",
    "df_sample.base_passenger_fare.sum().compute() / 1e9"
   ]
  },
  {
   "cell_type": "code",
   "execution_count": null,
   "id": "cde07a38-b3f4-42cb-aadd-ba91360170f1",
   "metadata": {},
   "outputs": [],
   "source": [
    "%%time\n",
    "#tip\n",
    "df_sample.tips.sum().compute() / 1e6"
   ]
  },
  {
   "cell_type": "code",
   "execution_count": null,
   "id": "08182a38-04c2-49f7-bfc4-68b474824d47",
   "metadata": {},
   "outputs": [],
   "source": [
    "%%time\n",
    "df_sample.loc[lambda x: x.tips > 0].groupby(\"hvfhs_license_num\").tips.agg([\"sum\", \"mean\"]).compute()"
   ]
  },
  {
   "cell_type": "markdown",
   "id": "231ab6a3-edfe-4b8e-8c21-0dbf5577327b",
   "metadata": {},
   "source": [
    "## Partition size 1MB \n",
    "\n",
    "Runs are ~11X slower compared to 13MB partitions"
   ]
  },
  {
   "cell_type": "code",
   "execution_count": null,
   "id": "b3754d13-31c4-49db-b8db-de9bff627b23",
   "metadata": {},
   "outputs": [],
   "source": [
    "df_sample = df_sample.repartition(partition_size=\"10MB\").persist()"
   ]
  },
  {
   "cell_type": "code",
   "execution_count": null,
   "id": "8a0dc205-9369-467f-97bc-0c122dff3fa3",
   "metadata": {},
   "outputs": [],
   "source": [
    "dask.utils.format_bytes(df_sample.partitions[0].memory_usage(deep=True).compute().sum())"
   ]
  },
  {
   "cell_type": "code",
   "execution_count": null,
   "id": "6d943324-99b0-4fd0-b8ec-7d0cca68488a",
   "metadata": {},
   "outputs": [],
   "source": [
    "%%time\n",
    "#passanger fare\n",
    "df_sample.base_passenger_fare.sum().compute() / 1e9"
   ]
  },
  {
   "cell_type": "code",
   "execution_count": null,
   "id": "f323d74a-7968-4243-9b7d-02737dbee77d",
   "metadata": {},
   "outputs": [],
   "source": [
    "%%time\n",
    "#tip\n",
    "df_sample.tips.sum().compute() / 1e6"
   ]
  },
  {
   "cell_type": "code",
   "execution_count": null,
   "id": "a44878c6-c38b-42a8-9d29-e5e2f2a47eaf",
   "metadata": {},
   "outputs": [],
   "source": [
    "%%time\n",
    "df_sample.loc[lambda x: x.tips > 0].groupby(\"hvfhs_license_num\").tips.agg([\"sum\", \"mean\"]).compute()"
   ]
  },
  {
   "cell_type": "markdown",
   "id": "640a6505-9b86-4c3d-88a8-4ac845de9c4b",
   "metadata": {},
   "source": [
    "## Write 1MB partition data to parquet and csv"
   ]
  },
  {
   "cell_type": "code",
   "execution_count": null,
   "id": "419db173-6634-4e04-8b46-29b778caebb4",
   "metadata": {
    "tags": []
   },
   "outputs": [],
   "source": [
    "df_sample.to_parquet(\"s3://coiled-datasets/uber-lyft-tlc-sample/parquet-0.2-10/\");"
   ]
  },
  {
   "cell_type": "code",
   "execution_count": null,
   "id": "fa488722-b8e0-4c5f-a909-305f1dc8f5c0",
   "metadata": {},
   "outputs": [],
   "source": [
    "df_sample.to_csv(\"s3://coiled-datasets/uber-lyft-tlc-sample/csv-0.2-10/\");"
   ]
  },
  {
   "cell_type": "code",
   "execution_count": null,
   "id": "72a11c39-bcbb-435d-a348-76901598b338",
   "metadata": {
    "tags": []
   },
   "outputs": [],
   "source": [
    "ddf = dd.read_csv(\n",
    "    \"s3://coiled-datasets/uber-lyft-tlc-sample/csv-0.2-10/*\", \n",
    "    dtype={\"wav_match_flag\": \"category\"},\n",
    ")"
   ]
  },
  {
   "cell_type": "code",
   "execution_count": null,
   "id": "5e861ff6-d380-4fcc-bc63-9b633b9e8ca3",
   "metadata": {
    "tags": []
   },
   "outputs": [],
   "source": [
    "dask.utils.format_bytes(\n",
    "    ddf.memory_usage(deep=True).sum().compute()\n",
    ")"
   ]
  },
  {
   "cell_type": "code",
   "execution_count": null,
   "id": "84ab159d-613d-4d04-95f5-104c3e17b75a",
   "metadata": {},
   "outputs": [],
   "source": []
  }
 ],
 "metadata": {
  "kernelspec": {
   "display_name": "Python 3 (ipykernel)",
   "language": "python",
   "name": "python3"
  },
  "language_info": {
   "codemirror_mode": {
    "name": "ipython",
    "version": 3
   },
   "file_extension": ".py",
   "mimetype": "text/x-python",
   "name": "python",
   "nbconvert_exporter": "python",
   "pygments_lexer": "ipython3",
   "version": "3.10.12"
  }
 },
 "nbformat": 4,
 "nbformat_minor": 5
}

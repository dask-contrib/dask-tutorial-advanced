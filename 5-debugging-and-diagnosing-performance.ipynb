{
 "cells": [
  {
   "cell_type": "code",
   "execution_count": null,
   "id": "cc11ce45-4fcd-4167-9bd9-5770d3a3415d",
   "metadata": {},
   "outputs": [],
   "source": [
    "import dask\n",
    "from dask.distributed import Client\n",
    "import dask.dataframe as dd\n",
    "import coiled"
   ]
  },
  {
   "cell_type": "code",
   "execution_count": null,
   "id": "29f3298c-6626-4eb4-8389-1e3ca7f83f67",
   "metadata": {},
   "outputs": [],
   "source": [
    "cluster = coiled.Cluster(\n",
    "    n_workers = 10)\n",
    "client = cluster.get_client()"
   ]
  },
  {
   "cell_type": "code",
   "execution_count": null,
   "id": "b3396b6a-6432-4e86-b826-17556efee8ec",
   "metadata": {},
   "outputs": [],
   "source": [
    "client"
   ]
  },
  {
   "cell_type": "code",
   "execution_count": null,
   "id": "6affba26-9831-4b7e-9039-c9f50d761208",
   "metadata": {},
   "outputs": [],
   "source": [
    "dask.config.set({\"dataframe.convert-string\": True})"
   ]
  },
  {
   "cell_type": "markdown",
   "id": "3ce3bb81-1434-476e-a384-1ee8c49f8181",
   "metadata": {},
   "source": [
    "## read csv data"
   ]
  },
  {
   "cell_type": "code",
   "execution_count": null,
   "id": "0cf27d15-540c-4700-acc4-0e3911ca2ebb",
   "metadata": {},
   "outputs": [],
   "source": [
    "df_csv = dd.read_csv(\"s3://coiled-datasets/uber-lyft-tlc-sample/csv-ill/*\", \n",
    "                     dtype = {\n",
    "                     \"shared_request_flag\": \"category\",\n",
    "                     \"shared_match_flag\": \"category\",\n",
    "                     \"access_a_ride_flag\": \"category\",\n",
    "                     \"wav_request_flag\": \"category\",\n",
    "                     \"wav_match_flag\": \"category\",    \n",
    "                     }, \n",
    "                     parse_dates=[\"request_datetime\", \"on_scene_datetime\", # this is not working well see error below\n",
    "                                  \"pickup_datetime\", \"dropoff_datetime\"]\n",
    "                    )"
   ]
  },
  {
   "cell_type": "code",
   "execution_count": null,
   "id": "31e16758-b4b3-4493-906a-7512a665859a",
   "metadata": {},
   "outputs": [],
   "source": [
    "#notice the ints and floats are infered as 64\n",
    "df_csv.dtypes"
   ]
  },
  {
   "cell_type": "code",
   "execution_count": null,
   "id": "eb69b6fa-6f3b-43d9-906c-1f49b922461b",
   "metadata": {},
   "outputs": [],
   "source": [
    "#this is not working\n",
    "dask.utils.format_bytes(\n",
    "    df_csv.memory_usage(deep=True).sum().compute()\n",
    ")"
   ]
  },
  {
   "cell_type": "markdown",
   "id": "01e9f7b4-be92-4c7b-b095-b94f3af924bb",
   "metadata": {},
   "source": [
    "```python\n",
    "ValueError: Mismatched dtypes found in `pd.read_csv`/`pd.read_table`.\n",
    "\n",
    "The following columns failed to properly parse as dates:\n",
    "\n",
    "- on_scene_datetime\n",
    "\n",
    "This is usually due to an invalid value in that column. To\n",
    "diagnose and fix it's recommended to drop these columns from the\n",
    "`parse_dates` keyword, and manually convert them to dates later\n",
    "using `dd.to_datetime`.\n",
    "\n",
    "\n",
    "```"
   ]
  },
  {
   "cell_type": "markdown",
   "id": "4d0577a9-a615-4eee-974e-076b48a8253b",
   "metadata": {},
   "source": [
    "## If we just do \n",
    "```python\n",
    "df_csv = dd.read_csv(\"s3://coiled-datasets/uber-lyft-tlc-sample/csv-ill/*\",)\n",
    "```\n",
    "\n",
    "It will be infering date times and categories as strings, and the last category `wav_match_flag` because it has NaN is converting it to floats but the values are [\"N\", \"Y\"]\n",
    "\n",
    "and this fails because of the dtype of `wav_match_flag`\n",
    "```python\n",
    "dask.utils.format_bytes(\n",
    "    df_csv.memory_usage(deep=True).sum().compute()\n",
    ")\n",
    "```"
   ]
  },
  {
   "cell_type": "code",
   "execution_count": null,
   "id": "6d1d2684-5610-42af-84c0-275c8810565a",
   "metadata": {},
   "outputs": [],
   "source": []
  },
  {
   "cell_type": "code",
   "execution_count": null,
   "id": "6d314d94-fe8c-4e30-979b-9979c3a67320",
   "metadata": {},
   "outputs": [],
   "source": []
  },
  {
   "cell_type": "markdown",
   "id": "27b50edb-797a-47b1-bcc1-68464e5eef60",
   "metadata": {},
   "source": [
    "## read parquet\n"
   ]
  },
  {
   "cell_type": "code",
   "execution_count": null,
   "id": "8415ce49-f0ed-4515-9e0b-fd5a2207ccad",
   "metadata": {},
   "outputs": [],
   "source": [
    "df_pq = dd.read_parquet(\"s3://coiled-datasets/uber-lyft-tlc-sample/parquet-ill/\")"
   ]
  },
  {
   "cell_type": "code",
   "execution_count": null,
   "id": "64740858-bd91-4c90-b3e2-1f43c469982c",
   "metadata": {},
   "outputs": [],
   "source": [
    "#beauty of parquet meta - get dtypes right\n",
    "df_pq.dtypes"
   ]
  },
  {
   "cell_type": "code",
   "execution_count": null,
   "id": "9211745a-8e80-4215-adea-688c82982563",
   "metadata": {},
   "outputs": [],
   "source": [
    "%%time\n",
    "#passanger fare\n",
    "df_pq.base_passenger_fare.sum().compute() / 1e9"
   ]
  },
  {
   "cell_type": "code",
   "execution_count": null,
   "id": "24ece0f8-902e-43fa-99b8-ed373bcfc4cf",
   "metadata": {},
   "outputs": [],
   "source": [
    "%%time\n",
    "#tip\n",
    "df_pq.tips.sum().compute() / 1e6"
   ]
  },
  {
   "cell_type": "code",
   "execution_count": null,
   "id": "2547f60b-50ed-4ded-80d1-476e85fd1e34",
   "metadata": {},
   "outputs": [],
   "source": [
    "%%time\n",
    "df_pq.loc[lambda x: x.tips > 0].groupby(\"hvfhs_license_num\").tips.agg([\"sum\", \"mean\"]).compute()"
   ]
  },
  {
   "cell_type": "code",
   "execution_count": null,
   "id": "5c9335d9-982e-45c8-8a93-381dc4e31d93",
   "metadata": {},
   "outputs": [],
   "source": []
  },
  {
   "cell_type": "markdown",
   "id": "40b87aca-6b11-4cec-9270-51b5ef83e954",
   "metadata": {},
   "source": [
    "### Try 100MB partitions"
   ]
  },
  {
   "cell_type": "code",
   "execution_count": null,
   "id": "799a2867-8859-44ae-a9f3-55ca06409e30",
   "metadata": {},
   "outputs": [],
   "source": [
    "df_pq = df_pq.repartition(partition_size=\"100MB\").persist()"
   ]
  },
  {
   "cell_type": "code",
   "execution_count": null,
   "id": "39bc55bc-9855-4c5b-b301-36c4e9856bb0",
   "metadata": {},
   "outputs": [],
   "source": [
    "%%time\n",
    "#passanger fare\n",
    "df_pq.base_passenger_fare.sum().compute() / 1e9"
   ]
  },
  {
   "cell_type": "markdown",
   "id": "101ea5a2-cb33-48d6-ab28-a0c0c004e1c8",
   "metadata": {},
   "source": [
    "## Went from ~ 5.9 s to 137ms (~43X faster)"
   ]
  }
 ],
 "metadata": {
  "kernelspec": {
   "display_name": "Python 3 (ipykernel)",
   "language": "python",
   "name": "python3"
  },
  "language_info": {
   "codemirror_mode": {
    "name": "ipython",
    "version": 3
   },
   "file_extension": ".py",
   "mimetype": "text/x-python",
   "name": "python",
   "nbconvert_exporter": "python",
   "pygments_lexer": "ipython3",
   "version": "3.10.0"
  }
 },
 "nbformat": 4,
 "nbformat_minor": 5
}

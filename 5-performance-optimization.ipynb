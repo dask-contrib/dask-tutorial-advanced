{
 "cells": [
  {
   "attachments": {},
   "cell_type": "markdown",
   "id": "f06a2f61-89b5-4a1f-9928-da4fe14d62a5",
   "metadata": {},
   "source": [
    "<img src=\"images/dask_horizontal.svg\" width=\"45%\" alt=\"Dask logo\\\">\n",
    "\n",
    "# Optimizing Dask Workloads\n",
    "\n",
    "This notebook illustrates a common Dask ETL workload, and demonstrates how one might go about diagnosing and resolving performance issues using the dashboard. We will provide a motivating example for where a user may require Dask, and outline some common do's and don't's of Dask dataframe operations.\n",
    "\n",
    "## Cluster setup\n",
    "\n",
    "Because the data we are using resides in AWS S3, we will be spinning up a [Coiled cluster](https://docs.coiled.io/user_guide/clusters/index.html) in the same region to minimize I/O costs (is it worth adding a blurb that some of the presenters are Coiled employees?):"
   ]
  },
  {
   "cell_type": "code",
   "execution_count": null,
   "id": "29f3298c-6626-4eb4-8389-1e3ca7f83f67",
   "metadata": {
    "tags": []
   },
   "outputs": [],
   "source": [
    "import coiled\n",
    "\n",
    "cluster = coiled.Cluster(n_workers=50, region=\"us-east-2\")  # start workers close to data to minimize costs\n",
    "client = cluster.get_client()"
   ]
  },
  {
   "attachments": {},
   "cell_type": "markdown",
   "id": "547788e0",
   "metadata": {},
   "source": [
    "Once we have initialized a cluster and client, we can easily view the Dask dashboard either through widgets provided by [dask-labextension](https://github.com/dask/dask-labextension), or by visiting the dashboard URL directly:"
   ]
  },
  {
   "cell_type": "code",
   "execution_count": null,
   "id": "b3396b6a-6432-4e86-b826-17556efee8ec",
   "metadata": {
    "tags": []
   },
   "outputs": [],
   "source": [
    "client"
   ]
  },
  {
   "attachments": {},
   "cell_type": "markdown",
   "id": "2a4c4623-e950-4685-849c-9793b5f18e59",
   "metadata": {},
   "source": [
    "## Motivation: TLC Trip Records\n",
    "\n",
    "The New York City Taxi and Limousine Commission (TLC) collects trip record information for each taxi and for-hire vehicle trip completed by licensed drivers and vehicles; a subset of this data (~60 GB) stored on S3 provides a good example of an out-of-core dataset that we would otherwise be unable to explore on a standard laptop.\n",
    "\n",
    "Using `dask.dataframe.read_csv`, we can lazily read this data in and do some low-level exploration before performing more complex computations:"
   ]
  },
  {
   "cell_type": "code",
   "execution_count": null,
   "id": "3b486301-0df1-4700-b618-343bbb397013",
   "metadata": {
    "tags": []
   },
   "outputs": [],
   "source": [
    "%%time\n",
    "\n",
    "import dask.dataframe as dd\n",
    "\n",
    "ddf = dd.read_csv(\n",
    "    \"s3://coiled-datasets/uber-lyft-tlc-sample/csv-10/*\", \n",
    "    # \"s3://coiled-datasets/uber-lyft-tlc-sample/csv-ill/*\", \n",
    "    dtype={\"wav_match_flag\": \"category\"},  # worth adding a blurb around why we set this?\n",
    ")"
   ]
  },
  {
   "attachments": {},
   "cell_type": "markdown",
   "id": "da2e59c0",
   "metadata": {},
   "source": [
    "After some initial exploration, we see that the columns representing on-scene and pickup times are stored as strings(?); using `to_datetime`, we can get a datetime representation of these columns and extract the relevant date components into their own new columns:"
   ]
  },
  {
   "cell_type": "code",
   "execution_count": null,
   "id": "63f2390e-5983-4844-8c37-2651afd8d940",
   "metadata": {
    "tags": []
   },
   "outputs": [],
   "source": [
    "%%time\n",
    "\n",
    "# Convert to datetime\n",
    "ddf[\"on_scene_datetime\"] = dd.to_datetime(ddf[\"on_scene_datetime\"], format=\"mixed\")\n",
    "ddf[\"pickup_datetime\"] = dd.to_datetime(ddf[\"pickup_datetime\"], format=\"mixed\")\n",
    "\n",
    "# Unpack columns\n",
    "ddf = ddf.assign(\n",
    "    accessible_vehicle=ddf.on_scene_datetime.isnull(),\n",
    "    pickup_month=ddf.pickup_datetime.dt.month,\n",
    "    pickup_dow=ddf.pickup_datetime.dt.dayofweek,\n",
    "    pickup_hour=ddf.pickup_datetime.dt.hour,\n",
    ")\n",
    "ddf = ddf.drop(columns=[\"on_scene_datetime\", \"pickup_datetime\"])"
   ]
  },
  {
   "attachments": {},
   "cell_type": "markdown",
   "id": "166a0eb0",
   "metadata": {},
   "source": [
    "From here, some data sanitization and improvements to readability:\n",
    "\n",
    "- Normalize airport fees to non-null floats\n",
    "- Remove outlier data\n",
    "- Rename service codes to their corresponding rideshare companies"
   ]
  },
  {
   "cell_type": "code",
   "execution_count": null,
   "id": "3b502560",
   "metadata": {},
   "outputs": [],
   "source": [
    "\n",
    "# Format airport_fee\n",
    "ddf[\"airport_fee\"] = ddf[\"airport_fee\"].replace(\"None\", 0).astype(float).fillna(0)\n",
    "\n",
    "# Remove outliers\n",
    "lower_bound = 0\n",
    "Q3 = ddf[\"trip_time\"].quantile(0.75)\n",
    "upper_bound = Q3 + (1.5 * (Q3 - lower_bound))\n",
    "ddf = ddf.loc[(ddf[\"trip_time\"] >= lower_bound) & (ddf[\"trip_time\"] <= upper_bound)]\n",
    "\n",
    "# # Categorize *_flag columns\n",
    "# ddf = ddf.categorize(columns=[\"shared_request_flag\", \"shared_match_flag\", \"access_a_ride_flag\", \"wav_request_flag\", \"wav_match_flag\"])\n",
    "\n",
    "service_names = {\n",
    "    \"HV0002\": \"juno\",\n",
    "    \"HV0005\": \"lyft\",\n",
    "    \"HV0003\": \"uber\",\n",
    "    \"HV0004\": \"via\",\n",
    "}\n",
    "\n",
    "ddf[\"service_names\"] = ddf[\"hvfhs_license_num\"].map(service_names)"
   ]
  },
  {
   "cell_type": "code",
   "execution_count": null,
   "id": "6f2b91b4-8d6a-4366-bd5d-970e4b869935",
   "metadata": {
    "tags": []
   },
   "outputs": [],
   "source": [
    "ddf"
   ]
  },
  {
   "attachments": {},
   "cell_type": "markdown",
   "id": "24e4e66b-24f7-4f6a-907a-96a34d48b7d0",
   "metadata": {
    "tags": []
   },
   "source": [
    "Now that the data is cleaned up, we can now do some preliminary analysis; for the sake of this tutorial, we are mostly intereseted in how long each computation take to run.\n",
    "\n",
    "\n",
    "Some metrics we may be interested in are the average tip amount across all riders:"
   ]
  },
  {
   "cell_type": "code",
   "execution_count": null,
   "id": "abfae138-c7cc-4bf4-9b83-446e3cfd7492",
   "metadata": {
    "tags": []
   },
   "outputs": [],
   "source": [
    "%%time\n",
    "\n",
    "(ddf.tips != 0).mean().compute()"
   ]
  },
  {
   "attachments": {},
   "cell_type": "markdown",
   "id": "c932453a",
   "metadata": {},
   "source": [
    "Or some metrics of tipping grouped by rideshare company:"
   ]
  },
  {
   "cell_type": "code",
   "execution_count": null,
   "id": "7ceab8e1-6696-4ca1-b870-931c93ca684a",
   "metadata": {
    "tags": []
   },
   "outputs": [],
   "source": [
    "%%time\n",
    "\n",
    "ddf.loc[lambda x: x.tips > 0].groupby(\"service_names\").tips.sum().compute()"
   ]
  },
  {
   "cell_type": "code",
   "execution_count": null,
   "id": "24e6b445-fa87-40aa-aa53-45e410a34e37",
   "metadata": {
    "tags": []
   },
   "outputs": [],
   "source": [
    "%%time\n",
    "\n",
    "ddf.loc[lambda x: x.tips > 0].groupby(\"service_names\").tips.mean().compute()"
   ]
  },
  {
   "attachments": {},
   "cell_type": "markdown",
   "id": "f3bb9d04-dd26-45bb-87be-3b57ef8358b6",
   "metadata": {},
   "source": [
    "## Do: persist intelligently\n",
    "\n",
    "Looking at the dashboard while performing the above analysis, it should become clear that whenever we compute operations on `ddf`, we must also run through all the dependent operations that read in and sanitize `ddf`, which forces each operation to take much longer than necessary while incurring unnecessary I/O costs."
   ]
  },
  {
   "cell_type": "code",
   "execution_count": null,
   "id": "4e7489e9-0408-4550-a756-baf7fdeadccc",
   "metadata": {
    "tags": []
   },
   "outputs": [],
   "source": [
    "%%time\n",
    "\n",
    "ddf = ddf.persist()"
   ]
  },
  {
   "cell_type": "code",
   "execution_count": null,
   "id": "ef63458e-25fa-4be1-bd60-fad2e7b0987d",
   "metadata": {
    "tags": []
   },
   "outputs": [],
   "source": [
    "%%time\n",
    "\n",
    "from distributed import wait\n",
    "wait(ddf);"
   ]
  },
  {
   "cell_type": "code",
   "execution_count": null,
   "id": "830696a8-f007-4be7-a482-375d7abbeb8e",
   "metadata": {
    "tags": []
   },
   "outputs": [],
   "source": [
    "%%time\n",
    "\n",
    "(ddf.tips != 0).mean().compute()"
   ]
  },
  {
   "cell_type": "code",
   "execution_count": null,
   "id": "b4c6e467-ebb7-4e6f-a56c-b97be7f19f96",
   "metadata": {
    "tags": []
   },
   "outputs": [],
   "source": [
    "%%time\n",
    "\n",
    "ddf.loc[lambda x: x.tips > 0].groupby(\"service_names\").tips.sum().compute()"
   ]
  },
  {
   "cell_type": "code",
   "execution_count": null,
   "id": "f1f97070-2081-4803-9ae9-bc1ce6a17f70",
   "metadata": {
    "tags": []
   },
   "outputs": [],
   "source": [
    "%%time\n",
    "\n",
    "ddf.loc[lambda x: x.tips > 0].groupby(\"service_names\").tips.mean().compute()"
   ]
  },
  {
   "attachments": {},
   "cell_type": "markdown",
   "id": "2b87bd8b-96fe-4e88-9a19-79871ece71a0",
   "metadata": {},
   "source": [
    "# Compute Intelligently"
   ]
  },
  {
   "cell_type": "code",
   "execution_count": null,
   "id": "09785813-271d-4314-8d57-5024c5972a13",
   "metadata": {
    "tags": []
   },
   "outputs": [],
   "source": [
    "trip_frac = (ddf.tips != 0).mean()\n",
    "gb_sum = ddf.loc[lambda x: x.tips > 0].groupby(\"service_names\").tips.sum()\n",
    "gb_mean = ddf.loc[lambda x: x.tips > 0].groupby(\"service_names\").tips.mean()"
   ]
  },
  {
   "cell_type": "code",
   "execution_count": null,
   "id": "bfd793ed-6a19-40f0-ac1a-3fd8c93e336c",
   "metadata": {
    "tags": []
   },
   "outputs": [],
   "source": [
    "%%time\n",
    "\n",
    "import dask\n",
    "\n",
    "trip_frac, gb_sum, gb_mean = dask.compute(trip_frac, gb_sum, gb_mean)"
   ]
  },
  {
   "attachments": {},
   "cell_type": "markdown",
   "id": "b8d460cc-d6c3-46c8-983a-9f4a88663db7",
   "metadata": {},
   "source": [
    "# File format"
   ]
  },
  {
   "cell_type": "code",
   "execution_count": null,
   "id": "343c83ef-aeb0-460b-9853-3ba026cffb62",
   "metadata": {
    "tags": []
   },
   "outputs": [],
   "source": [
    "%%time\n",
    "\n",
    "import dask.dataframe as dd\n",
    "\n",
    "# ddf = dd.read_csv(\n",
    "#     \"s3://coiled-datasets/uber-lyft-tlc-sample/csv-ill/*\", \n",
    "#     dtype={\"wav_match_flag\": \"category\"},\n",
    "# )\n",
    "\n",
    "# ddf = dd.read_parquet(\"s3://coiled-datasets/uber-lyft-tlc-sample/parquet-ill/\")\n",
    "ddf = dd.read_parquet(\"s3://coiled-datasets/uber-lyft-tlc-sample/parquet-10/\")"
   ]
  },
  {
   "cell_type": "code",
   "execution_count": null,
   "id": "26a2c940-bf12-4f25-b1e8-bedc4a0b7909",
   "metadata": {
    "tags": []
   },
   "outputs": [],
   "source": [
    "ddf.dtypes"
   ]
  },
  {
   "cell_type": "code",
   "execution_count": null,
   "id": "16ca27f6-5d46-451e-bccf-3e2f3b24d0cc",
   "metadata": {
    "tags": []
   },
   "outputs": [],
   "source": [
    "%%time\n",
    "\n",
    "# # Convert to datetime\n",
    "# ddf[\"on_scene_datetime\"] = dd.to_datetime(ddf[\"on_scene_datetime\"], format=\"mixed\")\n",
    "# ddf[\"pickup_datetime\"] = dd.to_datetime(ddf[\"pickup_datetime\"], format=\"mixed\")\n",
    "\n",
    "# Unpack columns\n",
    "ddf = ddf.assign(\n",
    "    accessible_vehicle=ddf.on_scene_datetime.isnull(),\n",
    "    pickup_month=ddf.pickup_datetime.dt.month,\n",
    "    pickup_dow=ddf.pickup_datetime.dt.dayofweek,\n",
    "    pickup_hour=ddf.pickup_datetime.dt.hour,\n",
    ")\n",
    "ddf = ddf.drop(columns=[\"on_scene_datetime\", \"pickup_datetime\"])\n",
    "\n",
    "# Format airport_fee\n",
    "ddf[\"airport_fee\"] = ddf[\"airport_fee\"].replace(\"None\", 0).astype(float).fillna(0)\n",
    "\n",
    "# Remove outliers\n",
    "lower_bound = 0\n",
    "Q3 = ddf[\"trip_time\"].quantile(0.75)\n",
    "upper_bound = Q3 + (1.5 * (Q3 - lower_bound))\n",
    "ddf = ddf.loc[(ddf[\"trip_time\"] >= lower_bound) & (ddf[\"trip_time\"] <= upper_bound)]\n",
    "\n",
    "# # Categorize *_flag columns\n",
    "# ddf = ddf.categorize(columns=[\"shared_request_flag\", \"shared_match_flag\", \"access_a_ride_flag\", \"wav_request_flag\", \"wav_match_flag\"])\n",
    "\n",
    "service_names = {\n",
    "    \"HV0002\": \"juno\",\n",
    "    \"HV0005\": \"lyft\",\n",
    "    \"HV0003\": \"uber\",\n",
    "    \"HV0004\": \"via\",\n",
    "}\n",
    "\n",
    "ddf[\"service_names\"] = ddf[\"hvfhs_license_num\"].map(service_names)"
   ]
  },
  {
   "cell_type": "code",
   "execution_count": null,
   "id": "4f53c0e3-ad21-4c0a-98dd-a138adf0c378",
   "metadata": {
    "tags": []
   },
   "outputs": [],
   "source": [
    "ddf = ddf.persist()"
   ]
  },
  {
   "cell_type": "code",
   "execution_count": null,
   "id": "bf8bcba0-1510-45eb-a1be-2bf8604c2ecf",
   "metadata": {
    "tags": []
   },
   "outputs": [],
   "source": [
    "%%time\n",
    "\n",
    "from distributed import wait\n",
    "wait(ddf);"
   ]
  },
  {
   "cell_type": "code",
   "execution_count": null,
   "id": "39634c19-079a-46d0-9e0a-ddca38921df2",
   "metadata": {
    "tags": []
   },
   "outputs": [],
   "source": [
    "%%time\n",
    "\n",
    "(ddf.tips != 0).mean().compute()"
   ]
  },
  {
   "cell_type": "code",
   "execution_count": null,
   "id": "f4278dd9-c037-4b06-a3a6-ff7d41a7d4cd",
   "metadata": {
    "tags": []
   },
   "outputs": [],
   "source": [
    "%%time\n",
    "\n",
    "ddf.loc[lambda x: x.tips > 0].groupby(\"service_names\").tips.sum().compute()"
   ]
  },
  {
   "cell_type": "code",
   "execution_count": null,
   "id": "4610c9db-f83d-4b62-ad7d-e4a1fff3e788",
   "metadata": {
    "tags": []
   },
   "outputs": [],
   "source": [
    "%%time\n",
    "\n",
    "ddf.loc[lambda x: x.tips > 0].groupby(\"service_names\").tips.mean().compute()"
   ]
  },
  {
   "cell_type": "markdown",
   "id": "4be25d74-4ba7-4f53-8387-c9a6b8535e31",
   "metadata": {},
   "source": [
    "Since we persisted the data, the impact of the improved IO is gone by the time we get to the computations. This is becuase at this point the data is in pandas objects with pandas datatypes. How it was originally stored no longer matters. To put it a different way, we have exactly the same task graph as we had in the previous section. In the next section we will see how to change that task graph."
   ]
  },
  {
   "attachments": {},
   "cell_type": "markdown",
   "id": "98af8e81-e9fd-4e0d-b0de-b7e6755a3fbf",
   "metadata": {},
   "source": [
    "# do: choose a reasonable partition size\n",
    "\n",
    "So far we've been working with the default partition size which in this case is pretty small. Since the data has a fixed size, when you have a small partition size you have to have many partitions. And when you have many partitions you have even more tasks since every partition results in at least one task. \n",
    "\n",
    "The goal is to give Dask enough to do per task so that the scheduler overhead isn't taking up a disproportionate amount of time, but not so much that the workers run out of memory. A good rule of thumb for partition sizes is between 100MB and 1GB per partiton ([excellent blog post on this](https://blog.dask.org/2021/11/02/choosing-dask-chunk-sizes))\n",
    "\n",
    "So the first step is to see what our partiton size currently is:"
   ]
  },
  {
   "cell_type": "code",
   "execution_count": null,
   "id": "01581f63-3060-4bba-b97f-3e34ed0aae49",
   "metadata": {
    "tags": []
   },
   "outputs": [],
   "source": [
    "import dask\n",
    "dask.utils.format_bytes(ddf.partitions[0].compute().memory_usage(deep=True).sum())"
   ]
  },
  {
   "cell_type": "markdown",
   "id": "d7fb4d26-c657-417a-b031-0827711c2a72",
   "metadata": {},
   "source": [
    "That is small! Now we can repartition to a bigger size. "
   ]
  },
  {
   "cell_type": "code",
   "execution_count": null,
   "id": "d0654d49-f504-4a5f-9eda-ce1dcd1f0c36",
   "metadata": {
    "tags": []
   },
   "outputs": [],
   "source": [
    "%%time\n",
    "\n",
    "ddf = ddf.repartition(\"100MiB\")\n",
    "ddf = ddf.persist()\n",
    "wait(ddf);"
   ]
  },
  {
   "cell_type": "markdown",
   "id": "7e08158e-8d36-4b8d-8025-f977270093fb",
   "metadata": {},
   "source": [
    "Note: we persist after we repartition because we don't want to be doing that repartitioning work every time we call compute.\n",
    "\n",
    "Let's check that that worked."
   ]
  },
  {
   "cell_type": "code",
   "execution_count": null,
   "id": "280633da-95ac-4f04-ab23-c0e8a132eed9",
   "metadata": {
    "tags": []
   },
   "outputs": [],
   "source": [
    "dask.utils.format_bytes(ddf.partitions[0].compute().memory_usage(deep=True).sum())"
   ]
  },
  {
   "cell_type": "markdown",
   "id": "95159fdc-6f72-4f46-9720-96ee44d49ab9",
   "metadata": {},
   "source": [
    "Ok! Now lets do out calculations again. Remember that this time the task graph will have many fewer nodes. You can always inspect the graph by calling `.visualize()` rather than `.compute()` or by looking at the \"Graph\" page in the dashboard. "
   ]
  },
  {
   "cell_type": "code",
   "execution_count": null,
   "id": "27254373-f82a-4fe6-b57e-64217b308e64",
   "metadata": {
    "tags": []
   },
   "outputs": [],
   "source": [
    "%%time\n",
    "\n",
    "(ddf.tips != 0).mean().compute()"
   ]
  },
  {
   "cell_type": "code",
   "execution_count": null,
   "id": "b460febd-ad73-4b2e-8606-bd29a2868e5f",
   "metadata": {
    "tags": []
   },
   "outputs": [],
   "source": [
    "%%time\n",
    "\n",
    "ddf.loc[lambda x: x.tips > 0].groupby(\"service_names\").tips.sum().compute()"
   ]
  },
  {
   "cell_type": "code",
   "execution_count": null,
   "id": "99548028-fc5b-46dc-8300-5a1d0c9e69b5",
   "metadata": {
    "tags": []
   },
   "outputs": [],
   "source": [
    "%%time\n",
    "\n",
    "ddf.loc[lambda x: x.tips > 0].groupby(\"service_names\").tips.mean().compute()"
   ]
  },
  {
   "cell_type": "markdown",
   "id": "4dff0b64-e4d3-4f2d-b00e-b950985d9ee0",
   "metadata": {},
   "source": [
    "Woohoo! That was fast! Ok last section. We have improved on the task graph by changing the partition size, but we haven't improved the performance of the tasks themselves. In this next section we'll explore how changing the data type of your columns can make individual tasks more perfomant."
   ]
  },
  {
   "attachments": {},
   "cell_type": "markdown",
   "id": "a309e787-5189-41ef-85ed-5aed652054ff",
   "metadata": {},
   "source": [
    "# Data types\n",
    "\n",
    "Look at a dashboard plot (maybe the GIL contention plot?) that demostrates we could benefit from PyArrow strings"
   ]
  },
  {
   "cell_type": "code",
   "execution_count": null,
   "id": "5f0820b9-c715-4c4f-b861-88b384c0a1d1",
   "metadata": {
    "tags": []
   },
   "outputs": [],
   "source": [
    "ddf.dtypes"
   ]
  },
  {
   "cell_type": "code",
   "execution_count": null,
   "id": "83792794-e4d9-4dbf-844d-9c905c1adbb9",
   "metadata": {
    "tags": []
   },
   "outputs": [],
   "source": [
    "ddf = ddf.astype({\n",
    "    \"service_names\": \"string[pyarrow]\",\n",
    "    \"hvfhs_license_num\": \"string[pyarrow]\",\n",
    "    \"dispatching_base_num\": \"string[pyarrow]\",\n",
    "    \"originating_base_num\": \"string[pyarrow]\",\n",
    "})"
   ]
  },
  {
   "cell_type": "code",
   "execution_count": null,
   "id": "da37e748-9f2a-4e88-a176-6b48bf82f94e",
   "metadata": {
    "tags": []
   },
   "outputs": [],
   "source": [
    "%%time\n",
    "\n",
    "ddf = ddf.persist()\n",
    "wait(ddf);"
   ]
  },
  {
   "cell_type": "code",
   "execution_count": null,
   "id": "644e13ff-3dfa-446e-900a-c47e76317428",
   "metadata": {
    "tags": []
   },
   "outputs": [],
   "source": [
    "ddf.dtypes"
   ]
  },
  {
   "cell_type": "code",
   "execution_count": null,
   "id": "4da5a812-ff2a-4cf0-bfad-b65f7108d3de",
   "metadata": {
    "tags": []
   },
   "outputs": [],
   "source": [
    "dask.utils.format_bytes(ddf.partitions[1].compute().memory_usage(deep=True).sum())"
   ]
  },
  {
   "cell_type": "code",
   "execution_count": null,
   "id": "29eef754-42e6-4251-b7da-acb4468305dd",
   "metadata": {
    "tags": []
   },
   "outputs": [],
   "source": [
    "# dask.config.set({\"dataframe.convert-string\": True});"
   ]
  },
  {
   "cell_type": "code",
   "execution_count": null,
   "id": "2da4346f-a50f-4c32-9596-73f6d95c1dd1",
   "metadata": {
    "tags": []
   },
   "outputs": [],
   "source": [
    "%%time\n",
    "\n",
    "ddf = ddf.repartition(\"100MB\")\n",
    "ddf = ddf.persist()\n",
    "wait(ddf);"
   ]
  },
  {
   "cell_type": "code",
   "execution_count": null,
   "id": "c8512af8-3a9f-4c85-a3c5-0643fb8b6331",
   "metadata": {
    "tags": []
   },
   "outputs": [],
   "source": [
    "%%time\n",
    "\n",
    "(ddf.tips != 0).mean().compute()"
   ]
  },
  {
   "cell_type": "code",
   "execution_count": null,
   "id": "e4122917-3f67-42e2-83c6-e9c40d6e954d",
   "metadata": {
    "tags": []
   },
   "outputs": [],
   "source": [
    "%%time\n",
    "\n",
    "ddf.loc[lambda x: x.tips > 0].groupby(\"service_names\").tips.sum().compute()"
   ]
  },
  {
   "cell_type": "code",
   "execution_count": null,
   "id": "9aedb328-377d-4e35-9c8b-793700dc9a16",
   "metadata": {
    "tags": []
   },
   "outputs": [],
   "source": [
    "%%time\n",
    "\n",
    "ddf.loc[lambda x: x.tips > 0].groupby(\"service_names\").tips.mean().compute()"
   ]
  },
  {
   "attachments": {},
   "cell_type": "markdown",
   "id": "03963c3e-d820-4488-90a7-ac55f0a831a2",
   "metadata": {},
   "source": [
    "# Conclusions\n",
    "\n",
    "- Explored Dask dashboard\n",
    "    - Saw plots that are available\n",
    "    - Learned to interpret them\n",
    "- Best practices\n",
    "    - File format, partition size, data types, etc."
   ]
  }
 ],
 "metadata": {
  "kernelspec": {
   "display_name": "Python 3 (ipykernel)",
   "language": "python",
   "name": "python3"
  },
  "language_info": {
   "codemirror_mode": {
    "name": "ipython",
    "version": 3
   },
   "file_extension": ".py",
   "mimetype": "text/x-python",
   "name": "python",
   "nbconvert_exporter": "python",
   "pygments_lexer": "ipython3",
   "version": "3.10.11"
  }
 },
 "nbformat": 4,
 "nbformat_minor": 5
}

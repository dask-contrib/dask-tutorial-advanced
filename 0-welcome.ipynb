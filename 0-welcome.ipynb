{
 "cells": [
  {
   "cell_type": "markdown",
   "metadata": {
    "slideshow": {
     "slide_type": "slide"
    }
   },
   "source": [
    "<img src=\"images/dask_horizontal.svg\"\n",
    "     width=\"45%\"\n",
    "     alt=\"Dask logo\\\">\n",
    "     \n",
    "# Dask Tutorial - Advanced\n",
    "\n",
    "## Materials and setup\n",
    "\n",
    "The materials for this tutorial are available at https://github.com/dask-contrib/dask-tutorial-advanced\n",
    "\n",
    "## About the instructors\n",
    "\n",
    "#### [Charles Blackmon-Luca](https://github.com/charlesbluca) &mdash; Software Engineer, [RAPIDS](https://rapids.ai/)\n",
    "#### [James Bourbeau](https://www.jamesbourbeau.com) &mdash; Lead Open Source Software Engineer, [Coiled](https://coiled.io/)\n",
    "#### [Naty Clementi](https://github.com/ncclementi) &mdash; Software Engineer, [Coiled](https://coiled.io/)\n",
    "#### [Julia Signell](https://jsignell.github.io) &mdash; Software Engineer, [Element 84](https://www.element84.com/)\n",
    "\n",
    "## Tutorial goals\n",
    "\n",
    "The goal of this tutorial is to cover more advanced features of Dask like task graph optimization, the worker and scheduler plugin system, how to inspect the internal state of a cluster, debugging distributed computations, diagnosing performance issues, and more.\n",
    "\n",
    "Attendees should walk away with an introduction to more advanced features, ideas of how they can apply these features effectively to their own data intensive workloads, and a deeper understanding of Dask’s internals.\n",
    "\n",
    "> ℹ️ NOTE: While there is a brief overview notebook, this tutorial largely assumes some prior knowledge of Dask. If you are new to Dask, we recommend going through the Dask tutorial (https://tutorial.dask.org) to get an introduction to Dask prior to going through this tutorial.\n",
    "\n",
    "## Outline\n",
    "\n",
    "The tutorial consists of several Jupyter notebooks which we will cover in the order listed below:\n",
    "\n",
    "- [0-welcome.ipynb](0-welcome.ipynb)\n",
    "- [1-overview.ipynb](1-overview.ipynb)\n",
    "- [2-custom-operations.ipynb](2-custom-operations.ipynb)\n",
    "- [4-distributed-scheduler.ipynb](5-distributed-scheduler.ipynb)\n",
    "- [5-performance-optimization.ipynb](5-performance-optimization.ipynb)\n",
    "\n",
    "Each notebook also contains hands-on exercises to illustrate the concepts being presented. Let's look at our first example to get a sense for how they work.\n",
    "\n",
    "### Exercise: Print \"Hello world!\"\n",
    "\n",
    "Use Python to print the string \"Hello world!\" to the screen."
   ]
  },
  {
   "cell_type": "code",
   "execution_count": null,
   "metadata": {},
   "outputs": [],
   "source": [
    "# Your solution here"
   ]
  },
  {
   "cell_type": "code",
   "execution_count": null,
   "metadata": {
    "jupyter": {
     "source_hidden": true
    },
    "tags": []
   },
   "outputs": [],
   "source": [
    "# A solution\n",
    "print(\"Hello world!\")"
   ]
  },
  {
   "cell_type": "markdown",
   "metadata": {},
   "source": [
    "### Next steps\n",
    "\n",
    "Let's start by going through a brief overview of Dask's basics over in [1-overview.ipynb](1-overview.ipynb)."
   ]
  }
 ],
 "metadata": {
  "kernelspec": {
   "display_name": "Python 3 (ipykernel)",
   "language": "python",
   "name": "python3"
  },
  "language_info": {
   "codemirror_mode": {
    "name": "ipython",
    "version": 3
   },
   "file_extension": ".py",
   "mimetype": "text/x-python",
   "name": "python",
   "nbconvert_exporter": "python",
   "pygments_lexer": "ipython3",
   "version": "3.10.12"
  }
 },
 "nbformat": 4,
 "nbformat_minor": 4
}
